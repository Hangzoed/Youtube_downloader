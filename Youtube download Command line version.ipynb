{
 "cells": [
  {
   "cell_type": "code",
   "execution_count": 63,
   "id": "b8552dab",
   "metadata": {},
   "outputs": [],
   "source": [
    "from pytube import YouTube,Playlist\n"
   ]
  },
  {
   "cell_type": "code",
   "execution_count": 64,
   "id": "4919d4ed",
   "metadata": {},
   "outputs": [
    {
     "name": "stdout",
     "output_type": "stream",
     "text": [
      "Hello welcome to Youtube downloader prototype\n"
     ]
    }
   ],
   "source": [
    "print(\"Hello welcome to Youtube downloader prototype\")"
   ]
  },
  {
   "cell_type": "code",
   "execution_count": 65,
   "id": "ef390116",
   "metadata": {
    "scrolled": true
   },
   "outputs": [
    {
     "name": "stdout",
     "output_type": "stream",
     "text": [
      "Enter Youtbe URL\n",
      "https://www.youtube.com/watch?v=ITJJ-CIMVrY\n"
     ]
    }
   ],
   "source": [
    "print(\"Enter Youtbe URL\")\n",
    "link = input()"
   ]
  },
  {
   "cell_type": "code",
   "execution_count": 66,
   "id": "2dd990a8",
   "metadata": {},
   "outputs": [
    {
     "name": "stdout",
     "output_type": "stream",
     "text": [
      "Audio Video or Playlist: \n",
      "A , PA, PV, V,\n",
      "V\n"
     ]
    }
   ],
   "source": [
    "print(\"Audio Video or Playlist: \")\n",
    "print(\"A , PA, PV, V,\")\n",
    "user = input()"
   ]
  },
  {
   "cell_type": "code",
   "execution_count": 69,
   "id": "92c18f5d",
   "metadata": {},
   "outputs": [],
   "source": [
    "if user.upper() == \"A\":\n",
    "    audio_download(link)\n",
    "elif user.upper() == \"PA\":\n",
    "    playlist_audio_download(link)\n",
    "elif user.upper() == \"V\":\n",
    "    video_download(link)"
   ]
  },
  {
   "cell_type": "code",
   "execution_count": null,
   "id": "9ba9a6b8",
   "metadata": {},
   "outputs": [],
   "source": []
  },
  {
   "cell_type": "code",
   "execution_count": 68,
   "id": "7e1d2ec6",
   "metadata": {},
   "outputs": [],
   "source": [
    "def video_download(link):\n",
    "    YouTube(link).streams.get_highest_resolution().download()"
   ]
  },
  {
   "cell_type": "code",
   "execution_count": null,
   "id": "16456419",
   "metadata": {},
   "outputs": [],
   "source": [
    "def playlist_audio_download(link):\n",
    "    # Takes a youtube url and downloads Audio version\n",
    "    playlist(link).streams.filter(only_audio=True).first().download()\n",
    "    "
   ]
  },
  {
   "cell_type": "code",
   "execution_count": 46,
   "id": "de6a499b",
   "metadata": {},
   "outputs": [],
   "source": [
    "def audio_download(link):\n",
    "    # Takes a youtube url and downloads Audio version\n",
    "    Youtube(link).streams.filter(only_audio=True).first().download()\n",
    "    "
   ]
  },
  {
   "cell_type": "code",
   "execution_count": 42,
   "id": "49545cdd",
   "metadata": {},
   "outputs": [
    {
     "data": {
      "text/plain": [
       "'C:\\\\Users\\\\hpham\\\\過來這裡Mumeicome here Mumei 《 hololive 》.mp4'"
      ]
     },
     "execution_count": 42,
     "metadata": {},
     "output_type": "execute_result"
    }
   ],
   "source": [
    "yt.streams.filter(only_audio=True).first().download()"
   ]
  },
  {
   "cell_type": "code",
   "execution_count": 60,
   "id": "8a4f07e8",
   "metadata": {},
   "outputs": [],
   "source": [
    "playlist = Playlist(\"https://www.youtube.com/playlist?list=PLynhp4cZEpTbRs_PYISQ8v_uwO0_mDg_X\")\n"
   ]
  },
  {
   "cell_type": "code",
   "execution_count": 61,
   "id": "1bfffb88",
   "metadata": {},
   "outputs": [
    {
     "ename": "AttributeError",
     "evalue": "'str' object has no attribute 'streams'",
     "output_type": "error",
     "traceback": [
      "\u001b[1;31m---------------------------------------------------------------------------\u001b[0m",
      "\u001b[1;31mAttributeError\u001b[0m                            Traceback (most recent call last)",
      "\u001b[1;32m~\\AppData\\Local\\Temp/ipykernel_3176/3488383328.py\u001b[0m in \u001b[0;36m<module>\u001b[1;34m\u001b[0m\n\u001b[0;32m      1\u001b[0m \u001b[1;32mfor\u001b[0m \u001b[0mvideo\u001b[0m \u001b[1;32min\u001b[0m \u001b[0mplaylist\u001b[0m\u001b[1;33m:\u001b[0m\u001b[1;33m\u001b[0m\u001b[1;33m\u001b[0m\u001b[0m\n\u001b[1;32m----> 2\u001b[1;33m     \u001b[0mvideo\u001b[0m\u001b[1;33m.\u001b[0m\u001b[0mstreams\u001b[0m\u001b[1;33m.\u001b[0m\u001b[0mget_highest_resolution\u001b[0m\u001b[1;33m(\u001b[0m\u001b[1;33m)\u001b[0m\u001b[1;33m.\u001b[0m\u001b[0mdownload\u001b[0m\u001b[1;33m(\u001b[0m\u001b[1;33m)\u001b[0m\u001b[1;33m\u001b[0m\u001b[1;33m\u001b[0m\u001b[0m\n\u001b[0m",
      "\u001b[1;31mAttributeError\u001b[0m: 'str' object has no attribute 'streams'"
     ]
    }
   ],
   "source": [
    "for video in playlist:\n",
    "    video.streams.get_highest_resolution().download()"
   ]
  },
  {
   "cell_type": "code",
   "execution_count": null,
   "id": "1ae4b453",
   "metadata": {},
   "outputs": [],
   "source": []
  }
 ],
 "metadata": {
  "kernelspec": {
   "display_name": "Python 3 (ipykernel)",
   "language": "python",
   "name": "python3"
  },
  "language_info": {
   "codemirror_mode": {
    "name": "ipython",
    "version": 3
   },
   "file_extension": ".py",
   "mimetype": "text/x-python",
   "name": "python",
   "nbconvert_exporter": "python",
   "pygments_lexer": "ipython3",
   "version": "3.9.5"
  }
 },
 "nbformat": 4,
 "nbformat_minor": 5
}
