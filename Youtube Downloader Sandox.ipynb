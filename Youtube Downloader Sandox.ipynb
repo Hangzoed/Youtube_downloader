{
 "cells": [
  {
   "cell_type": "code",
   "execution_count": null,
   "id": "b528173f",
   "metadata": {},
   "outputs": [],
   "source": []
  },
  {
   "cell_type": "code",
   "execution_count": 2,
   "id": "55c5c083",
   "metadata": {},
   "outputs": [],
   "source": [
    "from pytube import YouTube"
   ]
  },
  {
   "cell_type": "code",
   "execution_count": 3,
   "id": "5dc1282f",
   "metadata": {
    "scrolled": true
   },
   "outputs": [
    {
     "data": {
      "text/plain": [
       "'C:\\\\Users\\\\hpham\\\\Reject Modernity Embrace Masculinity.mp4'"
      ]
     },
     "execution_count": 3,
     "metadata": {},
     "output_type": "execute_result"
    }
   ],
   "source": [
    "YouTube('https://youtu.be/wfoBgD0_24U').streams.get_highest_resolution().download()"
   ]
  },
  {
   "cell_type": "code",
   "execution_count": 8,
   "id": "6fcc1778",
   "metadata": {},
   "outputs": [
    {
     "data": {
      "text/plain": [
       "pytube.streams.Stream"
      ]
     },
     "execution_count": 8,
     "metadata": {},
     "output_type": "execute_result"
    }
   ],
   "source": [
    "type(YouTube('https://youtu.be/wfoBgD0_24U').streams.filter(progressive = True, file_extension = 'mp4').order_by('resolution')[-1])"
   ]
  },
  {
   "cell_type": "markdown",
   "id": "01cfb2d5",
   "metadata": {},
   "source": [
    "## So I want to make a program that just downloads the stuff that I want from youtube without having to through ads"
   ]
  },
  {
   "cell_type": "markdown",
   "id": "1d5fa200",
   "metadata": {},
   "source": [
    "## I mostly download audios \n",
    "\n",
    "So I will need a function that will download it in audio format only "
   ]
  },
  {
   "cell_type": "markdown",
   "id": "60da17a8",
   "metadata": {},
   "source": [
    "THIS IS SO FUCKING COOL THAT IS WHY I AM LEARNING TO PRGRAMM IN THE FIRST PLACE "
   ]
  },
  {
   "cell_type": "markdown",
   "id": "b823c15f",
   "metadata": {},
   "source": [
    "Also I will make it download when I want."
   ]
  },
  {
   "cell_type": "markdown",
   "id": "aeed1671",
   "metadata": {},
   "source": [
    "### First draft will be a prgram that run in command line. "
   ]
  },
  {
   "cell_type": "markdown",
   "id": "e7a7900d",
   "metadata": {},
   "source": [
    "### Options\n",
    "1. audio \n",
    "2. video\n"
   ]
  },
  {
   "cell_type": "markdown",
   "id": "f53b74c0",
   "metadata": {},
   "source": [
    "Video options\n",
    "1. low size\n",
    "2. large size\n"
   ]
  },
  {
   "cell_type": "markdown",
   "id": "b5a152c4",
   "metadata": {},
   "source": [
    "Quality\n",
    "each quality will be a number from 1 to 4\n",
    "#### potienal issue if the qualiity doesn't exist"
   ]
  },
  {
   "cell_type": "code",
   "execution_count": null,
   "id": "b3ad1afd",
   "metadata": {},
   "outputs": [],
   "source": []
  }
 ],
 "metadata": {
  "kernelspec": {
   "display_name": "Python 3 (ipykernel)",
   "language": "python",
   "name": "python3"
  },
  "language_info": {
   "codemirror_mode": {
    "name": "ipython",
    "version": 3
   },
   "file_extension": ".py",
   "mimetype": "text/x-python",
   "name": "python",
   "nbconvert_exporter": "python",
   "pygments_lexer": "ipython3",
   "version": "3.9.5"
  }
 },
 "nbformat": 4,
 "nbformat_minor": 5
}
